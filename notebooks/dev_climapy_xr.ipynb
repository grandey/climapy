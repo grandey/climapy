{
 "cells": [
  {
   "cell_type": "markdown",
   "metadata": {},
   "source": [
    "# dev_climapy_xr.ipynb\n",
    "## Purpose\n",
    "Development and testing of functions in climapy.climapy_xr.\n",
    "## Author\n",
    "Benjamin S. Grandey, 2017"
   ]
  },
  {
   "cell_type": "code",
   "execution_count": 1,
   "metadata": {},
   "outputs": [],
   "source": [
    "import climapy\n",
    "import copy\n",
    "import matplotlib.pyplot as plt\n",
    "from mpl_toolkits.basemap import Basemap\n",
    "import numpy as np\n",
    "import os\n",
    "import xarray as xr\n",
    "\n",
    "%matplotlib inline"
   ]
  },
  {
   "cell_type": "code",
   "execution_count": 2,
   "metadata": {},
   "outputs": [
    {
     "name": "stdout",
     "output_type": "stream",
     "text": [
      "Help on package climapy:\n",
      "\n",
      "NAME\n",
      "    climapy\n",
      "\n",
      "DESCRIPTION\n",
      "    climapy:\n",
      "    Support data analysis of climate model data.\n",
      "    \n",
      "    Author:\n",
      "    Benjamin S. Grandey, 2017\n",
      "\n",
      "PACKAGE CONTENTS\n",
      "    climapy_xr\n",
      "\n",
      "FILE\n",
      "    /Users/grandey/github/climapy/climapy/__init__.py\n",
      "\n",
      "\n"
     ]
    }
   ],
   "source": [
    "help(climapy)"
   ]
  },
  {
   "cell_type": "markdown",
   "metadata": {},
   "source": [
    "## Input data location\n",
    "For development and testing, I will use NetCDF data files from [*Data for \"Radiative effects of interannually varying vs. interannually invariant aerosol emissions from fires\"* (doi: 10.6084/m9.figshare.3497705.v5)](https://doi.org/10.6084/m9.figshare.3497705.v5)."
   ]
  },
  {
   "cell_type": "code",
   "execution_count": 3,
   "metadata": {},
   "outputs": [
    {
     "data": {
      "text/plain": [
       "'/Users/grandey/data/figshare/figshare3497705v5/'"
      ]
     },
     "execution_count": 3,
     "metadata": {},
     "output_type": "execute_result"
    }
   ],
   "source": [
    "# Location of gunzipped input NetCDF files - CHANGE IF NECESSARY\n",
    "data_dir = '$HOME/data/figshare/figshare3497705v5/'\n",
    "data_dir = os.path.expandvars(data_dir)\n",
    "data_dir"
   ]
  },
  {
   "cell_type": "markdown",
   "metadata": {},
   "source": [
    "## Prepare Datasets"
   ]
  },
  {
   "cell_type": "code",
   "execution_count": 4,
   "metadata": {},
   "outputs": [
    {
     "name": "stdout",
     "output_type": "stream",
     "text": [
      "f0_dict has keys dict_keys(['input', 'renamed', 'reversed', 'transposed', 'irregular', 'strange'])\n",
      "fmean_dict has keys dict_keys(['input', 'renamed', 'reversed', 'transposed', 'irregular', 'strange'])\n"
     ]
    }
   ],
   "source": [
    "# Dictionaries in which to store Datasets\n",
    "f0_dict = {}  # Datasets derived from \"F0\" simulation data\n",
    "fmean_dict = {}  # Datasets derived from \"FMEAN\" simulation data\n",
    "\n",
    "# Load data for simulations F0 and FMEAN\n",
    "f0 = xr.open_dataset(data_dir+'bb0_o2000.nc', decode_times=False)  # F0\n",
    "fmean = xr.open_dataset(data_dir+'bb9706_o2000.nc', decode_times=False)  # FMEAN\n",
    "f0_dict['input'] = f0.copy()  # store in dict\n",
    "fmean_dict['input'] = fmean.copy()\n",
    "\n",
    "# Datasets with *renamed* lon and lat dimensions\n",
    "for f_dict in [f0_dict, fmean_dict]:\n",
    "    ds = f_dict['input'].copy()\n",
    "    ds = ds.rename({'lon': 'longitude', 'lat': 'latitude'})\n",
    "    f_dict['renamed'] = ds.copy()\n",
    "    \n",
    "# Datasets with *reversed* lon and lat coords\n",
    "for f_dict in [f0_dict, fmean_dict]:\n",
    "    ds = f_dict['input'].copy()\n",
    "    ds['lon'].values = ds['lon'].values[::-1]\n",
    "    ds['lat'].values = ds['lat'].values[::-1]\n",
    "    f_dict['reversed'] = ds.copy()\n",
    "    \n",
    "# Datasets with *transposed* lon and lat dimensions\n",
    "for f_dict in [f0_dict, fmean_dict]:\n",
    "    ds = f_dict['input'].copy()\n",
    "    ds = ds.transpose()\n",
    "    f_dict['transposed'] = ds.copy()\n",
    "    \n",
    "# Datasets with slightly *irregular* lon/lat coords, yet still monotonic\n",
    "ds = f0_dict['input'].copy()\n",
    "nx, ny = ds['lon'].size, ds['lat'].size\n",
    "lon_irr = ds['lon'].values + np.random.uniform(low=-0.01, high=0.01, size=nx)  # add small amount of noise\n",
    "lat_irr = ds['lat'].values + np.random.uniform(low=-0.01, high=0.01, size=ny)\n",
    "lat_irr[0] = -89.99  # min latitude should be > -90\n",
    "lat_irr[-1] = 89.99  # max latitude should be < -90\n",
    "for f_dict in [f0_dict, fmean_dict]:\n",
    "    ds = f_dict['input'].copy()\n",
    "    ds['lon'].values = lon_irr\n",
    "    ds['lat'].values = lat_irr\n",
    "    f_dict['irregular'] = ds.copy()\n",
    "\n",
    "# Datasets with *strange* lon/lat coords - very irregular and out of order\n",
    "ds = f0_dict['input'].copy()\n",
    "nx, ny = ds['lon'].size, ds['lat'].size\n",
    "lon_strange = ds['lon'].values + np.random.uniform(low=-10, high=10, size=nx)  # add large amount of noise\n",
    "lat_strange = ds['lat'].values + np.random.uniform(low=-10, high=10, size=ny)\n",
    "if np.all(np.diff(lat_strange) > 0):  # check that lat and lon do not increase montonically\n",
    "    print('!!! Latitude still montonically increasing! RE-RUN CELL. !!!')\n",
    "if np.all(np.diff(lon_strange) > 0):\n",
    "    print('!!! Longitude still montonically increasing! RE-RUN CELL. !!!')\n",
    "for f_dict in [f0_dict, fmean_dict]:\n",
    "    ds = f_dict['input'].copy()\n",
    "    ds['lon'].values = lon_strange\n",
    "    ds['lat'].values = lat_strange\n",
    "    f_dict['strange'] = ds.copy()\n",
    "\n",
    "print('f0_dict has keys {}'.format(f0_dict.keys()))\n",
    "print('fmean_dict has keys {}'.format(fmean_dict.keys()))"
   ]
  },
  {
   "cell_type": "code",
   "execution_count": 5,
   "metadata": {
    "collapsed": true
   },
   "outputs": [],
   "source": [
    "# Create deep copy of these dictionaries to check that data not modified in place by functions - see end of notebook\n",
    "f0_dict_dc = copy.deepcopy(f0_dict)\n",
    "fmean_dict_dc = copy.deepcopy(fmean_dict)"
   ]
  },
  {
   "cell_type": "markdown",
   "metadata": {},
   "source": [
    "## xr_check_lon_lat_match"
   ]
  },
  {
   "cell_type": "code",
   "execution_count": 6,
   "metadata": {},
   "outputs": [
    {
     "name": "stdout",
     "output_type": "stream",
     "text": [
      "Help on function xr_check_lon_lat_match in module climapy.climapy_xr:\n",
      "\n",
      "xr_check_lon_lat_match(xr_data_1, xr_data_2, lon_name='lon', lat_name='lat')\n",
      "    Check whether longitude and latitude coordinates are equal.\n",
      "    \n",
      "    Keyword arguments:\n",
      "    xr_data_1 -- first xarray Dataset or DataArray, with longitude and latitude dimensions\n",
      "    xr_data_2 -- second xarray Dataset or DataArray, with longitude and latitude dimensions\n",
      "    lon_name -- the name of the longitude dimension and coordinate (default 'lon')\n",
      "    lat_name -- the name of the longitude dimension and coordinate (default 'lon')\n",
      "    \n",
      "    Returns:\n",
      "    True or False\n",
      "\n"
     ]
    }
   ],
   "source": [
    "help(climapy.xr_check_lon_lat_match)"
   ]
  },
  {
   "cell_type": "code",
   "execution_count": 7,
   "metadata": {},
   "outputs": [
    {
     "name": "stdout",
     "output_type": "stream",
     "text": [
      "True for \"input\"\n",
      "True for \"renamed\"\n",
      "True for \"reversed\"\n",
      "True for \"transposed\"\n",
      "True for \"irregular\"\n",
      "True for \"strange\"\n"
     ]
    }
   ],
   "source": [
    "# Test 1: use every F0,FMEAN pair of Datasets\n",
    "# Expected result: should all be True\n",
    "for key in f0_dict.keys():\n",
    "    if key == 'renamed':\n",
    "        result = climapy.xr_check_lon_lat_match(f0_dict[key], fmean_dict[key],\n",
    "                                                lon_name='longitude', lat_name='latitude')\n",
    "    else:\n",
    "        result = climapy.xr_check_lon_lat_match(f0_dict[key], fmean_dict[key])\n",
    "    print('{} for \"{}\"'.format(result, key))"
   ]
  },
  {
   "cell_type": "code",
   "execution_count": 8,
   "metadata": {},
   "outputs": [
    {
     "name": "stdout",
     "output_type": "stream",
     "text": [
      "True for \"input\"\n",
      "True for \"renamed\"\n",
      "True for \"reversed\"\n",
      "True for \"transposed\"\n",
      "True for \"irregular\"\n",
      "True for \"strange\"\n"
     ]
    }
   ],
   "source": [
    "# Test 2: use every F0,FMEAN pair of temperature DataArrays\n",
    "# Expected result: should all be True\n",
    "for key in f0_dict.keys():\n",
    "    if key == 'renamed':\n",
    "        result = climapy.xr_check_lon_lat_match(f0_dict[key]['TS'], fmean_dict[key]['TS'],\n",
    "                                                lon_name='longitude', lat_name='latitude')\n",
    "    else:\n",
    "        result = climapy.xr_check_lon_lat_match(f0_dict[key]['TS'], fmean_dict[key]['TS'])\n",
    "    print('{} for \"{}\"'.format(result, key))"
   ]
  },
  {
   "cell_type": "code",
   "execution_count": 9,
   "metadata": {},
   "outputs": [
    {
     "name": "stdout",
     "output_type": "stream",
     "text": [
      "False for \"reversed\"\n",
      "True for \"transposed\"\n",
      "False for \"irregular\"\n",
      "False for \"strange\"\n"
     ]
    },
    {
     "name": "stderr",
     "output_type": "stream",
     "text": [
      "/Users/grandey/github/climapy/climapy/climapy_xr.py:33: UserWarning: Longitudes not equal\n",
      "  warnings.warn('Longitudes not equal')\n",
      "/Users/grandey/github/climapy/climapy/climapy_xr.py:36: UserWarning: Latitudes not equal\n",
      "  warnings.warn('Latitudes not equal')\n"
     ]
    }
   ],
   "source": [
    "# Test 3: compare F0['input'] with every other F0 Dataset (apart from 'renamed', due to diff dim names)\n",
    "# Expected result: should all be False, apart from transposed which should be True\n",
    "for key in f0_dict.keys():\n",
    "    if key not in ['input', 'renamed']:\n",
    "        result = climapy.xr_check_lon_lat_match(f0_dict['input'], f0_dict[key])\n",
    "        print('{} for \"{}\"'.format(result, key))"
   ]
  },
  {
   "cell_type": "code",
   "execution_count": 10,
   "metadata": {},
   "outputs": [
    {
     "name": "stdout",
     "output_type": "stream",
     "text": [
      "False for \"reversed\"\n",
      "True for \"transposed\"\n",
      "False for \"irregular\"\n",
      "False for \"strange\"\n"
     ]
    },
    {
     "name": "stderr",
     "output_type": "stream",
     "text": [
      "/Users/grandey/github/climapy/climapy/climapy_xr.py:33: UserWarning: Longitudes not equal\n",
      "  warnings.warn('Longitudes not equal')\n",
      "/Users/grandey/github/climapy/climapy/climapy_xr.py:36: UserWarning: Latitudes not equal\n",
      "  warnings.warn('Latitudes not equal')\n"
     ]
    }
   ],
   "source": [
    "# Test 4: compare F0['input']['TS'] with every other F0 'TS' DataArray (apart from 'renamed', due to diff dim names)\n",
    "# Expected result: should all be False, apart from transposed which should be True\n",
    "for key in f0_dict.keys():\n",
    "    if key not in ['input', 'renamed']:\n",
    "        result = climapy.xr_check_lon_lat_match(f0_dict['input']['TS'], f0_dict[key]['TS'])\n",
    "        print('{} for \"{}\"'.format(result, key))"
   ]
  },
  {
   "cell_type": "markdown",
   "metadata": {},
   "source": [
    "## xr_shift_lon"
   ]
  },
  {
   "cell_type": "code",
   "execution_count": 11,
   "metadata": {},
   "outputs": [
    {
     "name": "stdout",
     "output_type": "stream",
     "text": [
      "Help on function xr_shift_lon in module climapy.climapy_xr:\n",
      "\n",
      "xr_shift_lon(xr_data, lon_min=-180.0, lon_name='lon')\n",
      "    Shift longitudes of an xarray Dataset or DataArray.\n",
      "    \n",
      "    Keyword arguments:\n",
      "    xr_data -- an xarray Dataset or DataArray, with a longitude dimension\n",
      "    lon_min -- the minimum longitude requested (default -180.)\n",
      "    lon_name -- the name of the longitude dimension (default 'lon')\n",
      "    \n",
      "    Returns:\n",
      "    Copy of input object, with longitudes shifted to the range lon_min to lon_min+360.\n",
      "\n"
     ]
    }
   ],
   "source": [
    "help(climapy.xr_shift_lon)"
   ]
  },
  {
   "cell_type": "code",
   "execution_count": 12,
   "metadata": {},
   "outputs": [
    {
     "name": "stdout",
     "output_type": "stream",
     "text": [
      "ds1 longitudes range from 0.0 to 357.5\n",
      "ds2 longitudes range from -180.0 to 177.5\n"
     ]
    },
    {
     "data": {
      "image/png": "[encoded data removed]",
      "text/plain": [
       "<matplotlib.figure.Figure at 0x32ca1ffd0>"
      ]
     },
     "metadata": {},
     "output_type": "display_data"
    }
   ],
   "source": [
    "# Example: display result of applying xr_shift_lon to a Dataset\n",
    "ds1 = f0_dict['input']\n",
    "print('ds1 longitudes range from {} to {}'.format(*ds1['lon'].values[[0, -1]]))\n",
    "ds2 = climapy.xr_shift_lon(ds1)\n",
    "print('ds2 longitudes range from {} to {}'.format(*ds2['lon'].values[[0, -1]]))\n",
    "# Plot\n",
    "fig, axs = plt.subplots(1, 2, figsize=(10, 4.5))\n",
    "for ax, ds, title in zip(axs, [ds1, ds2], ['ds1 (unshifted)', 'ds2 (longitudes shifted)']):\n",
    "    # Longitude and latitude values\n",
    "    lon, lat = ds['lon'].values, ds['lat'].values\n",
    "    lon0 = lon[0] - ((lon[1] - lon[0]) / 2.0)  # lower bound for first longitude bin\n",
    "    lat0 = lat[0] - ((lat[1] - lat[0]) / 2.0)  # pseudo lower bound for first latitude bin\n",
    "    # Set up map\n",
    "    bm = Basemap(llcrnrlat=-90.0, urcrnrlat=90.0, llcrnrlon=lon0, urcrnrlon=360.0+lon0, ax=ax)\n",
    "    bm.drawcoastlines(color='0.5')\n",
    "    bm.drawparallels([-60, -30, 0, 30, 60], labels=[0, 1, 0, 0], fontsize='small',\n",
    "                      color='0.5', linewidth=0.5)\n",
    "    bm.drawmeridians([-120, -60, 0, 60, 120], labels=[0, 0, 0, 1], fontsize='small',\n",
    "                      color='0.5', linewidth=0.5)\n",
    "    # Plot data and colour bar\n",
    "    data = ds.isel(time=0)['TS'] - 273.15  # surface temperature in degC\n",
    "    im = ax.imshow(ds.isel(time=0)['TS'].values, extent=[lon0, 360+lon0, -lat0, lat0])\n",
    "    cbar = fig.colorbar(im, ax=ax, orientation='horizontal')\n",
    "    cbar.set_label('Surface temperature, $^\\circ$C')"
   ]
  },
  {
   "cell_type": "code",
   "execution_count": 13,
   "metadata": {
    "scrolled": true
   },
   "outputs": [
    {
     "name": "stdout",
     "output_type": "stream",
     "text": [
      "key = input\n",
      "  lon_min = -180.0\n",
      "    [start, end]: [0.0, 357.5] -> [-180.0, 177.5]; [min, max]: [0.0, 357.5] -> [-180.0, 177.5]\n",
      "    Equal to original before shifting back? False\n",
      "    Equal to original after shifting back? True\n",
      "  lon_min = -270.0\n",
      "    [start, end]: [0.0, 357.5] -> [-270.0, 87.5]; [min, max]: [0.0, 357.5] -> [-270.0, 87.5]\n",
      "    Equal to original before shifting back? False\n",
      "    Equal to original after shifting back? True\n",
      "  lon_min = 0.0\n",
      "    [start, end]: [0.0, 357.5] -> [0.0, 357.5]; [min, max]: [0.0, 357.5] -> [0.0, 357.5]\n",
      "    Equal to original before shifting back? True\n",
      "    Equal to original after shifting back? True\n",
      "key = renamed\n",
      "  lon_min = -180.0\n",
      "    [start, end]: [0.0, 357.5] -> [-180.0, 177.5]; [min, max]: [0.0, 357.5] -> [-180.0, 177.5]\n",
      "    Equal to original before shifting back? False\n",
      "    Equal to original after shifting back? True\n",
      "  lon_min = -270.0\n",
      "    [start, end]: [0.0, 357.5] -> [-270.0, 87.5]; [min, max]: [0.0, 357.5] -> [-270.0, 87.5]\n",
      "    Equal to original before shifting back? False\n",
      "    Equal to original after shifting back? True\n",
      "  lon_min = 0.0\n",
      "    [start, end]: [0.0, 357.5] -> [0.0, 357.5]; [min, max]: [0.0, 357.5] -> [0.0, 357.5]\n",
      "    Equal to original before shifting back? True\n",
      "    Equal to original after shifting back? True\n",
      "key = reversed\n",
      "  lon_min = -180.0\n",
      "    [start, end]: [357.5, 0.0] -> [177.5, -180.0]; [min, max]: [0.0, 357.5] -> [-180.0, 177.5]\n",
      "    Equal to original before shifting back? False\n",
      "    Equal to original after shifting back? True\n",
      "  lon_min = -270.0\n",
      "    [start, end]: [357.5, 0.0] -> [87.5, -270.0]; [min, max]: [0.0, 357.5] -> [-270.0, 87.5]\n",
      "    Equal to original before shifting back? False\n",
      "    Equal to original after shifting back? True\n",
      "  lon_min = 0.0\n",
      "    [start, end]: [357.5, 0.0] -> [357.5, 0.0]; [min, max]: [0.0, 357.5] -> [0.0, 357.5]\n",
      "    Equal to original before shifting back? True\n",
      "    Equal to original after shifting back? True\n",
      "key = transposed\n",
      "  lon_min = -180.0\n",
      "    [start, end]: [0.0, 357.5] -> [-180.0, 177.5]; [min, max]: [0.0, 357.5] -> [-180.0, 177.5]\n",
      "    Equal to original before shifting back? False\n",
      "    Equal to original after shifting back? True\n",
      "  lon_min = -270.0\n",
      "    [start, end]: [0.0, 357.5] -> [-270.0, 87.5]; [min, max]: [0.0, 357.5] -> [-270.0, 87.5]\n",
      "    Equal to original before shifting back? False\n",
      "    Equal to original after shifting back? True\n",
      "  lon_min = 0.0\n",
      "    [start, end]: [0.0, 357.5] -> [0.0, 357.5]; [min, max]: [0.0, 357.5] -> [0.0, 357.5]\n",
      "    Equal to original before shifting back? True\n",
      "    Equal to original after shifting back? True\n",
      "key = irregular\n",
      "  lon_min = -180.0\n",
      "    [start, end]: [-0.0, 357.5] -> [-177.5, 180.0]; [min, max]: [-0.0, 357.5] -> [-177.5, 180.0]\n",
      "    Equal to original before shifting back? False\n",
      "    Equal to original after shifting back? True\n",
      "  lon_min = -270.0\n",
      "    [start, end]: [-0.0, 357.5] -> [-267.5, 90.0]; [min, max]: [-0.0, 357.5] -> [-267.5, 90.0]\n",
      "    Equal to original before shifting back? False\n",
      "    Equal to original after shifting back? False\n",
      "    Largest difference in lon values is 1.4210854715202004e-14\n",
      "    Equal to original after re-indexing with tolerance? True\n",
      "  lon_min = 0.0\n",
      "    [start, end]: [-0.0, 357.5] -> [2.5, 360.0]; [min, max]: [-0.0, 357.5] -> [2.5, 360.0]\n",
      "    Equal to original before shifting back? False\n",
      "    Equal to original after shifting back? False\n",
      "    Largest difference in lon values is 1.1102230246251565e-14\n",
      "    Equal to original after re-indexing with tolerance? True\n",
      "key = strange\n",
      "  lon_min = -180.0\n",
      "    Encountered ValueError\n",
      "  lon_min = -270.0\n",
      "    Encountered ValueError\n",
      "  lon_min = 0.0\n",
      "    Encountered ValueError\n"
     ]
    }
   ],
   "source": [
    "# Test 1: for Datasets, shift longitudes to a specified range then shift back\n",
    "for key in f_dict.keys():\n",
    "    print('key = {}'.format(key))\n",
    "    if key == 'renamed':\n",
    "        lon_name = 'longitude'\n",
    "    else:\n",
    "        lon_name = 'lon'\n",
    "    for lon_min in [-180., -270., 0.]:  # try diff ranges\n",
    "        print('  lon_min = {}'.format(lon_min))\n",
    "        try:\n",
    "            # Shift longitudes\n",
    "            ds = climapy.xr_shift_lon(f0_dict[key], lon_min=lon_min, lon_name=lon_name)\n",
    "            # Print information about original and new longitude values\n",
    "            start_end_orig = tuple(f0_dict[key][lon_name].values[[0, -1]])  # original start and end lon values\n",
    "            min_max_orig = tuple(np.sort(f0_dict[key][lon_name].values)[[0, -1]])  # original min and max lon values\n",
    "            start_end_new = tuple(ds[lon_name].values[[0, -1]])  # new start and end lon values\n",
    "            min_max_new = tuple(np.sort(ds[lon_name].values)[[0, -1]])  # new min and max lon values\n",
    "            print('    [start, end]: [{:.1f}, {:.1f}] -> [{:.1f}, {:.1f}]; '\n",
    "                  '[min, max]: [{:.1f}, {:.1f}] -> [{:.1f}, {:.1f}]'.format(*start_end_orig, *start_end_new,\n",
    "                                                                            *min_max_orig, *min_max_new))\n",
    "            # Shift longitudes back and check whether equal to original\n",
    "            print('    Equal to original before shifting back? {}'.format(ds.equals(f0_dict[key])))\n",
    "            ds = climapy.xr_shift_lon(ds, lon_min=min_max_orig[0], lon_name=lon_name)\n",
    "            print('    Equal to original after shifting back? {}'.format(ds.equals(f0_dict[key])))\n",
    "            if not ds.equals(f0_dict[key]):\n",
    "                print('    Largest difference in lon values is '\n",
    "                      '{}'.format(np.max(np.abs(ds['lon'].values - f0_dict[key]['lon'].values))))\n",
    "                ds = ds.reindex_like(f0_dict[key], method='nearest', tolerance=1e-3)\n",
    "                print('    Equal to original after re-indexing with tolerance? '\n",
    "                      '{}'.format(ds.equals(f0_dict[key])))\n",
    "        except ValueError:\n",
    "            print('    Encountered ValueError')"
   ]
  },
  {
   "cell_type": "code",
   "execution_count": 14,
   "metadata": {
    "scrolled": true
   },
   "outputs": [
    {
     "name": "stdout",
     "output_type": "stream",
     "text": [
      "key = input\n",
      "  lon_min = -180.0\n",
      "    [start, end]: [0.0, 357.5] -> [-180.0, 177.5]; [min, max]: [0.0, 357.5] -> [-180.0, 177.5]\n",
      "    Equal to original before shifting back? False\n",
      "    Equal to original after shifting back? True\n",
      "  lon_min = -270.0\n",
      "    [start, end]: [0.0, 357.5] -> [-270.0, 87.5]; [min, max]: [0.0, 357.5] -> [-270.0, 87.5]\n",
      "    Equal to original before shifting back? False\n",
      "    Equal to original after shifting back? True\n",
      "  lon_min = 0.0\n",
      "    [start, end]: [0.0, 357.5] -> [0.0, 357.5]; [min, max]: [0.0, 357.5] -> [0.0, 357.5]\n",
      "    Equal to original before shifting back? True\n",
      "    Equal to original after shifting back? True\n",
      "key = renamed\n",
      "  lon_min = -180.0\n",
      "    [start, end]: [0.0, 357.5] -> [-180.0, 177.5]; [min, max]: [0.0, 357.5] -> [-180.0, 177.5]\n",
      "    Equal to original before shifting back? False\n",
      "    Equal to original after shifting back? True\n",
      "  lon_min = -270.0\n",
      "    [start, end]: [0.0, 357.5] -> [-270.0, 87.5]; [min, max]: [0.0, 357.5] -> [-270.0, 87.5]\n",
      "    Equal to original before shifting back? False\n",
      "    Equal to original after shifting back? True\n",
      "  lon_min = 0.0\n",
      "    [start, end]: [0.0, 357.5] -> [0.0, 357.5]; [min, max]: [0.0, 357.5] -> [0.0, 357.5]\n",
      "    Equal to original before shifting back? True\n",
      "    Equal to original after shifting back? True\n",
      "key = reversed\n",
      "  lon_min = -180.0\n",
      "    [start, end]: [357.5, 0.0] -> [177.5, -180.0]; [min, max]: [0.0, 357.5] -> [-180.0, 177.5]\n",
      "    Equal to original before shifting back? False\n",
      "    Equal to original after shifting back? True\n",
      "  lon_min = -270.0\n",
      "    [start, end]: [357.5, 0.0] -> [87.5, -270.0]; [min, max]: [0.0, 357.5] -> [-270.0, 87.5]\n",
      "    Equal to original before shifting back? False\n",
      "    Equal to original after shifting back? True\n",
      "  lon_min = 0.0\n",
      "    [start, end]: [357.5, 0.0] -> [357.5, 0.0]; [min, max]: [0.0, 357.5] -> [0.0, 357.5]\n",
      "    Equal to original before shifting back? True\n",
      "    Equal to original after shifting back? True\n",
      "key = transposed\n",
      "  lon_min = -180.0\n",
      "    [start, end]: [0.0, 357.5] -> [-180.0, 177.5]; [min, max]: [0.0, 357.5] -> [-180.0, 177.5]\n",
      "    Equal to original before shifting back? False\n",
      "    Equal to original after shifting back? True\n",
      "  lon_min = -270.0\n",
      "    [start, end]: [0.0, 357.5] -> [-270.0, 87.5]; [min, max]: [0.0, 357.5] -> [-270.0, 87.5]\n",
      "    Equal to original before shifting back? False\n",
      "    Equal to original after shifting back? True\n",
      "  lon_min = 0.0\n",
      "    [start, end]: [0.0, 357.5] -> [0.0, 357.5]; [min, max]: [0.0, 357.5] -> [0.0, 357.5]\n",
      "    Equal to original before shifting back? True\n",
      "    Equal to original after shifting back? True\n",
      "key = irregular\n",
      "  lon_min = -180.0\n",
      "    [start, end]: [-0.0, 357.5] -> [-177.5, 180.0]; [min, max]: [-0.0, 357.5] -> [-177.5, 180.0]\n",
      "    Equal to original before shifting back? False\n",
      "    Equal to original after shifting back? True\n",
      "  lon_min = -270.0\n",
      "    [start, end]: [-0.0, 357.5] -> [-267.5, 90.0]; [min, max]: [-0.0, 357.5] -> [-267.5, 90.0]\n",
      "    Equal to original before shifting back? False\n",
      "    Equal to original after shifting back? False\n",
      "    Largest difference in lon values is 1.4210854715202004e-14\n",
      "    Equal to original after re-indexing with tolerance? True\n",
      "  lon_min = 0.0\n",
      "    [start, end]: [-0.0, 357.5] -> [2.5, 360.0]; [min, max]: [-0.0, 357.5] -> [2.5, 360.0]\n",
      "    Equal to original before shifting back? False\n",
      "    Equal to original after shifting back? False\n",
      "    Largest difference in lon values is 1.1102230246251565e-14\n",
      "    Equal to original after re-indexing with tolerance? True\n",
      "key = strange\n",
      "  lon_min = -180.0\n",
      "    Encountered ValueError\n",
      "  lon_min = -270.0\n",
      "    Encountered ValueError\n",
      "  lon_min = 0.0\n",
      "    Encountered ValueError\n"
     ]
    }
   ],
   "source": [
    "# Test 2: for DataArrays, shift longitudes to a specified range then shift back\n",
    "for key in f_dict.keys():\n",
    "    print('key = {}'.format(key))\n",
    "    if key == 'renamed':\n",
    "        lon_name = 'longitude'\n",
    "    else:\n",
    "        lon_name = 'lon'\n",
    "    for lon_min in [-180., -270., 0.]:  # try diff ranges\n",
    "        print('  lon_min = {}'.format(lon_min))\n",
    "        try:\n",
    "            # Shift longitudes\n",
    "            da = climapy.xr_shift_lon(f0_dict[key]['TS'], lon_min=lon_min, lon_name=lon_name)\n",
    "            # Print information about original and new longitude values\n",
    "            start_end_orig = tuple(f0_dict[key]['TS'][lon_name].values[[0, -1]])  # original start and end lon values\n",
    "            min_max_orig = tuple(np.sort(f0_dict[key]['TS'][lon_name].values)[[0, -1]])  # original min and max lon values\n",
    "            start_end_new = tuple(da[lon_name].values[[0, -1]])  # new start and end lon values\n",
    "            min_max_new = tuple(np.sort(da[lon_name].values)[[0, -1]])  # new min and max lon values\n",
    "            print('    [start, end]: [{:.1f}, {:.1f}] -> [{:.1f}, {:.1f}]; '\n",
    "                  '[min, max]: [{:.1f}, {:.1f}] -> [{:.1f}, {:.1f}]'.format(*start_end_orig, *start_end_new,\n",
    "                                                                            *min_max_orig, *min_max_new))\n",
    "            # Shift longitudes back and check whether equal to original\n",
    "            print('    Equal to original before shifting back? {}'.format(da.equals(f0_dict[key]['TS'])))\n",
    "            da = climapy.xr_shift_lon(da, lon_min=min_max_orig[0], lon_name=lon_name)\n",
    "            print('    Equal to original after shifting back? {}'.format(da.equals(f0_dict[key]['TS'])))\n",
    "            if not da.equals(f0_dict[key]['TS']):\n",
    "                print('    Largest difference in lon values is '\n",
    "                      '{}'.format(np.max(np.abs(da['lon'].values - f0_dict[key]['TS']['lon'].values))))\n",
    "                da = da.reindex_like(f0_dict[key]['TS'], method='nearest', tolerance=1e-3)\n",
    "                print('    Equal to original after re-indexing with tolerance? '\n",
    "                      '{}'.format(da.equals(f0_dict[key]['TS'])))\n",
    "        except ValueError:\n",
    "            print('    Encountered ValueError')"
   ]
  },
  {
   "cell_type": "markdown",
   "metadata": {},
   "source": [
    "## Check that Datasets have not been modified in place"
   ]
  },
  {
   "cell_type": "code",
   "execution_count": 15,
   "metadata": {},
   "outputs": [
    {
     "name": "stdout",
     "output_type": "stream",
     "text": [
      "True for input\n",
      "True for renamed\n",
      "True for reversed\n",
      "True for transposed\n",
      "True for irregular\n",
      "True for strange\n"
     ]
    }
   ],
   "source": [
    "# Check that Datasets in f0_dict are unchanged\n",
    "# Expected result: True for all\n",
    "for key in f0_dict.keys():\n",
    "    print('{} for {}'.format(f0_dict[key].identical(f0_dict_dc[key]), key))"
   ]
  },
  {
   "cell_type": "code",
   "execution_count": 16,
   "metadata": {},
   "outputs": [
    {
     "name": "stdout",
     "output_type": "stream",
     "text": [
      "True for input\n",
      "True for renamed\n",
      "True for reversed\n",
      "True for transposed\n",
      "True for irregular\n",
      "True for strange\n"
     ]
    }
   ],
   "source": [
    "# Check that Datasets in fmean_dict are unchanged\n",
    "# Expected result: True for all\n",
    "for key in fmean_dict.keys():\n",
    "    print('{} for {}'.format(fmean_dict[key].identical(fmean_dict_dc[key]), key))"
   ]
  }
 ],
 "metadata": {
  "kernelspec": {
   "display_name": "Python 3",
   "language": "python",
   "name": "python3"
  },
  "language_info": {
   "codemirror_mode": {
    "name": "ipython",
    "version": 3
   },
   "file_extension": ".py",
   "mimetype": "text/x-python",
   "name": "python",
   "nbconvert_exporter": "python",
   "pygments_lexer": "ipython3",
   "version": "3.6.0"
  }
 },
 "nbformat": 4,
 "nbformat_minor": 2
}
